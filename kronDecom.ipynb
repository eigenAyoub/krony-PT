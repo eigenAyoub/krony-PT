{
 "cells": [
  {
   "cell_type": "markdown",
   "id": "ac980831-496d-42c0-b146-08bcff40d34c",
   "metadata": {},
   "source": [
    "## Goals:\n",
    "\n",
    "1. Load the weights \n",
    "2. Kronecker Decomp.:\n",
    "   * $K$ into $K_1, K_2$\n",
    "   * $Q$ into $Q_1, Q_2$\n",
    "3. check the attention\n",
    "   * Project the matrix\n",
    "   * Optimize $K Q^T$ and check correctness of compute"
   ]
  },
  {
   "cell_type": "code",
   "execution_count": 6,
   "id": "b9314d95-069a-4e41-8a18-4e76d0f45b7a",
   "metadata": {},
   "outputs": [
    {
     "name": "stdout",
     "output_type": "stream",
     "text": [
      "assets\t\t data\t\t  README.md\t      transformer_sizing.ipynb\n",
      "bench.py\t kronDecom.ipynb  sample.py\n",
      "config\t\t LICENSE\t  scaling_laws.ipynb\n",
      "configurator.py  model.py\t  train.py\n"
     ]
    }
   ],
   "source": [
    "!ls "
   ]
  },
  {
   "cell_type": "code",
   "execution_count": null,
   "id": "18dd8f3d-232e-4d66-a973-b29791b7075c",
   "metadata": {},
   "outputs": [],
   "source": []
  }
 ],
 "metadata": {
  "kernelspec": {
   "display_name": "Python 3 (ipykernel)",
   "language": "python",
   "name": "python3"
  },
  "language_info": {
   "codemirror_mode": {
    "name": "ipython",
    "version": 3
   },
   "file_extension": ".py",
   "mimetype": "text/x-python",
   "name": "python",
   "nbconvert_exporter": "python",
   "pygments_lexer": "ipython3",
   "version": "3.10.12"
  }
 },
 "nbformat": 4,
 "nbformat_minor": 5
}
